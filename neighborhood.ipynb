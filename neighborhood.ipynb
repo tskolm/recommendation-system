{
 "cells": [
  {
   "cell_type": "code",
   "execution_count": 1,
   "metadata": {
    "collapsed": true
   },
   "outputs": [],
   "source": [
    "import numpy as np\n",
    "import pandas as pd\n",
    "from sklearn.metrics import mean_squared_error"
   ]
  },
  {
   "cell_type": "code",
   "execution_count": 2,
   "metadata": {
    "collapsed": true
   },
   "outputs": [],
   "source": [
    "import read_file as rf\n",
    "import split_data as spt\n",
    "import data_preprocessing as proc"
   ]
  },
  {
   "cell_type": "markdown",
   "metadata": {},
   "source": [
    "# Neighborhood подход"
   ]
  },
  {
   "cell_type": "markdown",
   "metadata": {},
   "source": [
    "Данный подход основан на матрице похожести. Можно рассматривать похожесть пользователей или похожесть объектов. В данной задаче нам необходимо реализовать данный алгоритм, основанный на похожести фильмов. \n",
    " \n",
    "Neighborhood подход имеет очень высокую вычислительную сложность. Нужно по списку оценок пользователей построить таблицу похожести объектов или пользователей. Данные вычисления локально работают около часа. Поэтому рекомендовалось использовать AWS Amazon"
   ]
  },
  {
   "cell_type": "markdown",
   "metadata": {},
   "source": [
    "В item-oriented методе данного подхода similarity-matrix считается по формуле:\n",
    "\n",
    "$$ sim(i, j) = \\frac{\\sum_{u \\in{U}}(r_{u, i} - \\bar{r})(r_{u, j} - \\bar{r})} \n",
    "{\\sqrt{\\sum_{u \\in{U}}(r_{u, i} - \\bar{r})^2} \\sqrt{\\sum_{u \\in{U}}(r_{u, j} - \\bar{r})^2}} $$\n",
    "\n",
    "Аналогично выглядит формула для user-oriented подхода:\n",
    "\n",
    "$$ sim(n, k) = \\frac{\\sum_{i \\in{I}}(r_{i, n} - \\bar{r})(r_{i, k} - \\bar{r})} \n",
    "{\\sqrt{\\sum_{i \\in{I}}(r_{i, n} - \\bar{r})^2} \\sqrt{\\sum_{i \\in{I}}(r_{i, k} - \\bar{r})^2}} $$"
   ]
  },
  {
   "cell_type": "markdown",
   "metadata": {},
   "source": [
    "### Считываем данные"
   ]
  },
  {
   "cell_type": "code",
   "execution_count": 3,
   "metadata": {
    "collapsed": false
   },
   "outputs": [],
   "source": [
    "df_users, df_movies, df_rates = rf.read_zipped_file('ml-1m.zip')"
   ]
  },
  {
   "cell_type": "markdown",
   "metadata": {},
   "source": [
    "### Делим данные"
   ]
  },
  {
   "cell_type": "code",
   "execution_count": 4,
   "metadata": {
    "collapsed": false
   },
   "outputs": [
    {
     "name": "stdout",
     "output_type": "stream",
     "text": [
      "CPU times: user 1min 1s, sys: 58.7 s, total: 2min\n",
      "Wall time: 2min 3s\n"
     ]
    }
   ],
   "source": [
    "%time df_splited = spt.get_train_test_split(df_rates, df_users.index)"
   ]
  },
  {
   "cell_type": "code",
   "execution_count": 5,
   "metadata": {
    "collapsed": false
   },
   "outputs": [
    {
     "name": "stdout",
     "output_type": "stream",
     "text": [
      "CPU times: user 280 ms, sys: 2.42 ms, total: 282 ms\n",
      "Wall time: 282 ms\n"
     ]
    }
   ],
   "source": [
    "%%time\n",
    "movies_ind = spt.get_new_indexes(df_splited, 'movie_id')\n",
    "users_ind = spt.get_new_indexes(df_splited, 'user_id')"
   ]
  },
  {
   "cell_type": "code",
   "execution_count": 6,
   "metadata": {
    "collapsed": false
   },
   "outputs": [],
   "source": [
    "df_splited[0].to_csv('./data/train_dataset.csv', sep=':', index=None, header=None)"
   ]
  },
  {
   "cell_type": "markdown",
   "metadata": {},
   "source": [
    "Для того, чтобы протестировать алгоритм, необходимо запустить его локально. Это можно сделать с помощью командной строки (как делала я). Или же с помощью следующего кода:"
   ]
  },
  {
   "cell_type": "code",
   "execution_count": 12,
   "metadata": {
    "collapsed": false
   },
   "outputs": [],
   "source": [
    "%%time\n",
    "\n",
    "keys = []\n",
    "values = []\n",
    "from similarity_matrix import SimilarityCount\n",
    "mr_job = SimilarityCount(args=['./data/train_dataset.csv'])\n",
    "with mr_job.make_runner() as runner:\n",
    "    runner.run()\n",
    "    for line in runner.stream_output():\n",
    "        key, value = mr_job.parse_output_line(line)\n",
    "        keys.append(key)\n",
    "        values.append(value)"
   ]
  },
  {
   "cell_type": "markdown",
   "metadata": {},
   "source": [
    "Если запускать с помощью командной строки, то результат будет сразу выводиться в файл, это удобнее для сохранения информации. В командной строке я запускала следющей командой:\n",
    "<center><i>python similarity_matrix.py <./data/train_dataset.csv> ./data/train_similarity.csv -r local </i></center>\n",
    "\n",
    "\n",
    "Но есть и недостатки у этого метода -- приходится считывать из файла и парсить, то, что вывел mrjob, что и делает следующая функция"
   ]
  },
  {
   "cell_type": "code",
   "execution_count": 7,
   "metadata": {
    "collapsed": false,
    "scrolled": true
   },
   "outputs": [],
   "source": [
    "def get_similarity_matrix_from_file(file_name):\n",
    "    x = []\n",
    "    y = []\n",
    "    value = []\n",
    "    with open('./data/%s'%file_name, 'r') as f:\n",
    "        for l in f:\n",
    "            new = l.replace('\"', '').split('\\t')\n",
    "            value.append(new[1].replace('\\n', ''))\n",
    "            x_new, y_new = new[0].split('|')\n",
    "            x.append(x_new)\n",
    "            y.append(y_new)\n",
    "    x = np.array(x).astype(int)\n",
    "    y = np.array(y).astype(int)\n",
    "    value = np.array(value).astype(float)\n",
    "    y_max = y.max()\n",
    "    x_max = x.max()\n",
    "    matrix = np.zeros((x_max, y_max))\n",
    "    for i in range(x.shape[0]):\n",
    "        matrix[x[i]-1, y[i]-1] = value[i]\n",
    "    return matrix"
   ]
  },
  {
   "cell_type": "code",
   "execution_count": 8,
   "metadata": {
    "collapsed": false
   },
   "outputs": [],
   "source": [
    "def get_values_from_test(df):\n",
    "    y_true = []\n",
    "    users = []\n",
    "    movies = []\n",
    "    for ind in df.index:\n",
    "        row = df.loc[ind]\n",
    "        y_true.append(row['rating'])\n",
    "        users.append(row['user_id'])\n",
    "        movies.append(row['movie_id'])\n",
    "    return np.array(y_true), np.array(users), np.array(movies)"
   ]
  },
  {
   "cell_type": "code",
   "execution_count": 39,
   "metadata": {
    "collapsed": false
   },
   "outputs": [],
   "source": [
    "def get_predict(matrix, df, users, movies, users_to_predict, movies_to_predict, N):\n",
    "    adjacency = proc.to_adjacency_df(df, users, movies)\n",
    "    y_pred = []\n",
    "    for i in range(movies_to_predict.shape[0]):\n",
    "        user_rates = adjacency.loc[users_to_predict[i], :].as_matrix()\n",
    "        user_indexes = np.nonzero(user_rates)[0]\n",
    "        movie_indexes = np.array(adjacency.columns[user_indexes]-1)\n",
    "        sim = sim_matrix[movies_to_predict[i]-1, movie_indexes]\n",
    "        sort = np.argsort(sim)\n",
    "        user_indexes = user_indexes[sort][:N]\n",
    "        sim = sim[sort][:N]\n",
    "        \n",
    "        rates = user_rates[user_indexes]\n",
    "        sum_sim = np.sum(sim)\n",
    "        if sum_sim == 0:\n",
    "            result = rates.mean()\n",
    "        else:\n",
    "            result = np.sum(sim*rates) / np.sum(sim)\n",
    "        y_pred.append(result)\n",
    "    return y_pred"
   ]
  },
  {
   "cell_type": "markdown",
   "metadata": {},
   "source": [
    "Нужно распарсить подсчитанные значения и посчитать рейтинг для каждого нового фильма по следующей формуле:\n",
    "\n",
    "$$\\hat{r_{u, i}} = \\frac{\\sum_{j:r_{u, j}\\neq 0}sim(i, j)r_{u, j}}{\\sum_{j:r_{u, j}\\neq 0}sim(i, j)}$$ \n",
    "\n",
    "Если бы использовался user-oriented метод, то формула была бы такой:\n",
    "\n",
    "$$\\hat{r_{u, i}} = \\frac{\\sum_{v:r_{v, i}\\neq 0}sim(u, v)r_{v, i}}{\\sum_{v:r_{v, i}\\neq 0}sim(u, v)}$$"
   ]
  },
  {
   "cell_type": "code",
   "execution_count": 10,
   "metadata": {
    "collapsed": true
   },
   "outputs": [],
   "source": [
    "sim_matrix = get_similarity_matrix_from_file('train_similarity.csv')"
   ]
  },
  {
   "cell_type": "markdown",
   "metadata": {},
   "source": [
    "Получим истинную метку и список пользователей и фильмов, оценки которых нужно предсказать"
   ]
  },
  {
   "cell_type": "code",
   "execution_count": 11,
   "metadata": {
    "collapsed": false
   },
   "outputs": [
    {
     "name": "stdout",
     "output_type": "stream",
     "text": [
      "CPU times: user 32.7 s, sys: 166 ms, total: 32.8 s\n",
      "Wall time: 33 s\n"
     ]
    }
   ],
   "source": [
    "%time y_true, users_to_pred, movies_to_pred = get_values_from_test(df_splited[1])"
   ]
  },
  {
   "cell_type": "markdown",
   "metadata": {},
   "source": [
    "А теперь проанализируем, как количество фильмов максимальной схожести влияют на результат"
   ]
  },
  {
   "cell_type": "code",
   "execution_count": 40,
   "metadata": {
    "collapsed": false
   },
   "outputs": [],
   "source": [
    "N = np.array([1, 5, 10, 15])\n",
    "loss = []\n",
    "for i in range(N.shape[0]):\n",
    "    y_pred = get_predict(sim_matrix, df_splited[1], users_ind[1], movies_ind[1], \n",
    "                         users_to_pred, movies_to_pred, N[i])\n",
    "    loss.append(mean_squared_error(y_true=y_true, y_pred=y_pred))"
   ]
  },
  {
   "cell_type": "code",
   "execution_count": 41,
   "metadata": {
    "collapsed": false,
    "scrolled": true
   },
   "outputs": [
    {
     "data": {
      "text/plain": [
       "[1.9450583104059749, 1.2048315956785485, 1.1288446130221279, 1.109552275437957]"
      ]
     },
     "execution_count": 41,
     "metadata": {},
     "output_type": "execute_result"
    }
   ],
   "source": [
    "loss"
   ]
  },
  {
   "cell_type": "code",
   "execution_count": 43,
   "metadata": {
    "collapsed": false
   },
   "outputs": [],
   "source": [
    "N = np.array([50, 100, 200, 400])\n",
    "loss = []\n",
    "for i in range(N.shape[0]):\n",
    "    y_pred = get_predict(sim_matrix, df_splited[1], users_ind[1], movies_ind[1], \n",
    "                         users_to_pred, movies_to_pred, N[i])\n",
    "    loss.append(mean_squared_error(y_true=y_true, y_pred=y_pred))"
   ]
  },
  {
   "cell_type": "code",
   "execution_count": 45,
   "metadata": {
    "collapsed": false,
    "scrolled": true
   },
   "outputs": [
    {
     "data": {
      "text/plain": [
       "[1.0569690371699407,\n",
       " 0.98889703416120633,\n",
       " 0.93832748586618586,\n",
       " 0.93180653681235515]"
      ]
     },
     "execution_count": 45,
     "metadata": {},
     "output_type": "execute_result"
    }
   ],
   "source": [
    "loss"
   ]
  },
  {
   "cell_type": "markdown",
   "metadata": {},
   "source": [
    "| N size  | MSE  |\n",
    "|---|---|\n",
    "| 1  | 1.9450583104059749  |\n",
    "|  15 |  1.109552275437957 |\n",
    "|  100 | 0.98889703416120633  |\n",
    "|400|0.93180653681235515|"
   ]
  },
  {
   "cell_type": "markdown",
   "metadata": {},
   "source": [
    "Как видно из этой таблицы -- чем больше значени N, тем лучше результат"
   ]
  },
  {
   "cell_type": "code",
   "execution_count": 94,
   "metadata": {
    "collapsed": false,
    "scrolled": false
   },
   "outputs": [
    {
     "name": "stdout",
     "output_type": "stream",
     "text": [
      "CPU times: user 1min 25s, sys: 940 ms, total: 1min 26s\n",
      "Wall time: 1min 28s\n"
     ]
    }
   ],
   "source": [
    "%time y_pred = get_predict(sim_matrix, df_splited[1], users_ind[1], movies_ind[1], users_to_pred, movies_to_pred)"
   ]
  },
  {
   "cell_type": "code",
   "execution_count": 95,
   "metadata": {
    "collapsed": false
   },
   "outputs": [],
   "source": [
    "loss = mean_squared_error(y_true=y_true, y_pred=y_pred)"
   ]
  },
  {
   "cell_type": "code",
   "execution_count": 96,
   "metadata": {
    "collapsed": false
   },
   "outputs": [
    {
     "data": {
      "text/plain": [
       "0.9316676690692125"
      ]
     },
     "execution_count": 96,
     "metadata": {},
     "output_type": "execute_result"
    }
   ],
   "source": [
    "loss"
   ]
  },
  {
   "cell_type": "markdown",
   "metadata": {},
   "source": [
    "### Выводы"
   ]
  },
  {
   "cell_type": "markdown",
   "metadata": {},
   "source": [
    "Данный подход хорош тем, что не нужно придумывать различные признаки. Нам не нужно знать о пользователях и фильмах ничего, кроме того, какиеоценки пользователи ставят каким фильмам.\n",
    "\n",
    "\n",
    "Лучше хранить всю таблицу, но если очень мало места на диске, то можно ограничиться хранением лишь 400 схожих фильмов."
   ]
  },
  {
   "cell_type": "markdown",
   "metadata": {},
   "source": [
    "Достоинства:\n",
    "    - Нет необходимости во вспомогательной информации о пользователях\n",
    "Недостатки:\n",
    "    - Требует много времени для вычисления\n",
    "    - В моей реализации он оказался немного хуже, чем content-based"
   ]
  }
 ],
 "metadata": {
  "anaconda-cloud": {},
  "kernelspec": {
   "display_name": "Python [Root]",
   "language": "python",
   "name": "Python [Root]"
  },
  "language_info": {
   "codemirror_mode": {
    "name": "ipython",
    "version": 3
   },
   "file_extension": ".py",
   "mimetype": "text/x-python",
   "name": "python",
   "nbconvert_exporter": "python",
   "pygments_lexer": "ipython3",
   "version": "3.5.1"
  }
 },
 "nbformat": 4,
 "nbformat_minor": 0
}

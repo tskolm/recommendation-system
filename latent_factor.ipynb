{
 "cells": [
  {
   "cell_type": "code",
   "execution_count": 1,
   "metadata": {
    "collapsed": false
   },
   "outputs": [],
   "source": [
    "import pandas as pd\n",
    "import numpy as np\n",
    "from sklearn.linear_model import Ridge\n",
    "from sklearn.model_selection import train_test_split\n",
    "from sklearn.metrics import mean_squared_error\n",
    "\n",
    "import read_file as rf\n",
    "import split_data as spt"
   ]
  },
  {
   "cell_type": "markdown",
   "metadata": {},
   "source": [
    "# Latent factor-based  подход"
   ]
  },
  {
   "cell_type": "markdown",
   "metadata": {},
   "source": [
    "В данном подходе мы вводим латентные переменные, чтобы выявить зависимость на основе оценок между пользователями и фильмами. При введении латентных переменных мы можем получить две матрицы: одна описывает пользователей в пространстве мкрытых переменных, а вторая описывает фильмы в этом пространстве. Если перемножить их, то получим значения оценок пользователей фильмам.\n",
    "\n",
    "Иными словами, оценка r<sub>ui</sub> пользователя u, поставленная фильму i, ищется как скалярное произведение векторов p<sub>u</sub> и q<sub>i</sub> в некотором пространстве латентных признаков размерности K:\n",
    "\n",
    "$$\\hat{r}_{u, i} = p_{u}^T q_{i}$$\n",
    "\n",
    "Для решения данной задачи будем минимизировать следующий функционал:\n",
    "\n",
    "$$\\sum_{(u, i, r_{u,i})} (r_{u, i} - p_{u}^Tq_{i})^2 + \\lambda_{p}p_{u}^Tp_{u} + \\lambda_{q}q_{i}^Tq_{i}$$"
   ]
  },
  {
   "cell_type": "markdown",
   "metadata": {},
   "source": [
    "Суммирование ведется по всем тройкам  (u, i, r<sub>u,i</sub>) a слагаемые с лямбдой добавлены для регуляризации"
   ]
  },
  {
   "cell_type": "markdown",
   "metadata": {},
   "source": [
    "Воспользуемся следующим методом для оптимизации данного функционала. Составим матрицу P из векторов p<sub>u</sub> и матрицу Q из векторов q<sub>i</sub>. Будем делать последовательные шаги и минимизировать каждую из матриц при фиксированной второй. Опишим эти шаги:\n",
    "- Шаг перенастройки матрицы P:\n",
    "    $$A_{u} = Q[u]^T Q[u]$$\n",
    "    $$d_{u} = Q[u]^T r_{u} $$\n",
    "    $$p_{u} = (\\lambda_{p}n_{u}I + A_{u})^{-1}d_{u}$$\n",
    "- Шаг перенастройки матрицы Q:\n",
    "    $$B_{i} = P[i]^T P[i]$$\n",
    "    $$c_{i} = P[i]^T r_{i} $$\n",
    "    $$q_{i} = (\\lambda_{q}n_{i}I + B_{i})^{-1}c_{i}$$"
   ]
  },
  {
   "cell_type": "markdown",
   "metadata": {},
   "source": [
    "где n<sub>u</sub> -- количество оценок пользователя u и n<sub>i</sub> -- количество оценок фильма i"
   ]
  },
  {
   "cell_type": "markdown",
   "metadata": {},
   "source": [
    "### Считываем данные"
   ]
  },
  {
   "cell_type": "code",
   "execution_count": 2,
   "metadata": {
    "collapsed": false
   },
   "outputs": [],
   "source": [
    "df_users, df_movies, df_rates = rf.read_zipped_file('ml-1m.zip')"
   ]
  },
  {
   "cell_type": "markdown",
   "metadata": {},
   "source": [
    "### Делим данные"
   ]
  },
  {
   "cell_type": "code",
   "execution_count": 3,
   "metadata": {
    "collapsed": false,
    "scrolled": false
   },
   "outputs": [
    {
     "name": "stdout",
     "output_type": "stream",
     "text": [
      "CPU times: user 55.6 s, sys: 50.4 s, total: 1min 46s\n",
      "Wall time: 1min 47s\n"
     ]
    }
   ],
   "source": [
    "%time df_splited = spt.get_train_test_split(df_rates, df_users.index)"
   ]
  },
  {
   "cell_type": "code",
   "execution_count": 4,
   "metadata": {
    "collapsed": false
   },
   "outputs": [
    {
     "name": "stdout",
     "output_type": "stream",
     "text": [
      "CPU times: user 313 ms, sys: 7.59 ms, total: 320 ms\n",
      "Wall time: 324 ms\n"
     ]
    }
   ],
   "source": [
    "%%time\n",
    "movies_ind = spt.get_new_indexes(df_splited, 'movie_id')\n",
    "users_ind = spt.get_new_indexes(df_splited, 'user_id')"
   ]
  },
  {
   "cell_type": "markdown",
   "metadata": {},
   "source": [
    "###  Используем Ridge-регрессию"
   ]
  },
  {
   "cell_type": "code",
   "execution_count": 13,
   "metadata": {
    "collapsed": true
   },
   "outputs": [],
   "source": [
    "df = df_splited[0].copy()"
   ]
  },
  {
   "cell_type": "code",
   "execution_count": 26,
   "metadata": {
    "collapsed": false
   },
   "outputs": [
    {
     "name": "stdout",
     "output_type": "stream",
     "text": [
      "CPU times: user 4 µs, sys: 0 ns, total: 4 µs\n",
      "Wall time: 9.06 µs\n"
     ]
    }
   ],
   "source": [
    "%%time\n",
    "\n",
    "def evaluate_matrix(N, P, Q, lambda_p, lambda_q):\n",
    "    for i in range(N):\n",
    "        for u in users_ind[0]:\n",
    "            Q_u = Q[users_movies[u]-1, :]\n",
    "            A_u = np.dot(Q_u.T, Q_u)\n",
    "            d_u = np.dot(Q_u.T, rates_users[u])\n",
    "            P[u-1, :] = np.dot(np.linalg.inv((lambda_p*len(rates_users[u])*np.eye(A_u.shape[0]) + A_u)), d_u)\n",
    "        for i in movies_ind[0]:\n",
    "            P_i = P[movies_users[i]-1, :]\n",
    "            A_i = np.dot(P_i.T, P_i)\n",
    "            d_i = np.dot(P_i.T, rates_movies[i])\n",
    "            Q[i-1, :] = np.dot(np.linalg.inv((lambda_q*len(rates_movies[i])*np.eye(A_i.shape[0]) + A_i)), d_i)\n",
    "    print ('loss = ', mse(np.dot(P, Q.T), df_splited[1]))"
   ]
  },
  {
   "cell_type": "code",
   "execution_count": 23,
   "metadata": {
    "collapsed": false,
    "scrolled": true
   },
   "outputs": [
    {
     "name": "stdout",
     "output_type": "stream",
     "text": [
      "CPU times: user 5 µs, sys: 1 µs, total: 6 µs\n",
      "Wall time: 9.06 µs\n"
     ]
    }
   ],
   "source": [
    "%%time\n",
    "def mse (pred, df):\n",
    "    r_pred = pred.copy()\n",
    "    y_pred = []\n",
    "    y_true = []\n",
    "    for ind in df.index:\n",
    "        row = df.loc[ind]\n",
    "        y_true.append(row['rating'])\n",
    "        user = row['user_id']\n",
    "        movie = row['movie_id']\n",
    "        y_pred.append(r_pred[user-1][movie-1])\n",
    "    loss = mean_squared_error(y_true=y_true, y_pred=y_pred)\n",
    "    return loss"
   ]
  },
  {
   "cell_type": "code",
   "execution_count": 10,
   "metadata": {
    "collapsed": false
   },
   "outputs": [
    {
     "name": "stdout",
     "output_type": "stream",
     "text": [
      "CPU times: user 7.17 s, sys: 207 ms, total: 7.38 s\n",
      "Wall time: 7.47 s\n"
     ]
    }
   ],
   "source": [
    "%%time\n",
    "\n",
    "df_grouped =  df.groupby(df.user_id)\n",
    "users_movies = {}\n",
    "rates_users = {}\n",
    "for group in df_grouped.groups:\n",
    "    users_movies[group] = df_grouped.get_group(group).movie_id.as_matrix()\n",
    "    rates_users[group] = df_grouped.get_group(group).rating.as_matrix()\n",
    "    \n",
    "df_grouped =  df.groupby(df.movie_id)\n",
    "movies_users = {}\n",
    "rates_movies = {}\n",
    "for group in df_grouped.groups:\n",
    "    movies_users[group] = df_grouped.get_group(group).user_id.as_matrix()\n",
    "    rates_movies[group] = df_grouped.get_group(group).rating.as_matrix()"
   ]
  },
  {
   "cell_type": "markdown",
   "metadata": {},
   "source": [
    "Инициализируем матрицы"
   ]
  },
  {
   "cell_type": "markdown",
   "metadata": {},
   "source": [
    "Подберем параметры на отложенной выборке. "
   ]
  },
  {
   "cell_type": "code",
   "execution_count": 19,
   "metadata": {
    "collapsed": false
   },
   "outputs": [],
   "source": [
    "lambda_p = 0.2\n",
    "lambda_q = 0.001\n",
    "N = 20\n",
    "K = 10\n",
    "P = 0.1 * np.random.random((df_users.index.max(), K)) \n",
    "Q = 0.1 * np.random.random((df_movies.index.max(), K))"
   ]
  },
  {
   "cell_type": "code",
   "execution_count": 24,
   "metadata": {
    "collapsed": false
   },
   "outputs": [
    {
     "name": "stdout",
     "output_type": "stream",
     "text": [
      " p = 0.001000, q = 0.001000\n",
      "loss =  4.44320468657\n",
      " p = 0.001000, q = 0.010000\n",
      "loss =  0.892360675494\n",
      " p = 0.001000, q = 0.100000\n",
      "loss =  0.902871389021\n",
      " p = 0.001000, q = 1.000000\n",
      "loss =  0.956106863014\n",
      " p = 0.010000, q = 0.001000\n",
      "loss =  4.50143527211\n",
      " p = 0.010000, q = 0.010000\n",
      "loss =  0.890632209347\n",
      " p = 0.010000, q = 0.100000\n",
      "loss =  0.902536362368\n",
      " p = 0.010000, q = 1.000000\n",
      "loss =  0.952564209634\n",
      " p = 0.100000, q = 0.001000\n",
      "loss =  4.46224786628\n",
      " p = 0.100000, q = 0.010000\n",
      "loss =  0.89592198435\n",
      " p = 0.100000, q = 0.100000\n",
      "loss =  0.905623880018\n",
      " p = 0.100000, q = 1.000000\n",
      "loss =  0.955978480751\n",
      " p = 1.000000, q = 0.001000\n",
      "loss =  4.40881936501\n",
      " p = 1.000000, q = 0.010000\n",
      "loss =  0.888655335624\n",
      " p = 1.000000, q = 0.100000\n",
      "loss =  0.896975619487\n",
      " p = 1.000000, q = 1.000000\n",
      "loss =  0.961075982937\n"
     ]
    }
   ],
   "source": [
    "l_p = [0.001, 0.01, 0.1, 1]\n",
    "l_q = [0.001, 0.01, 0.1, 1]\n",
    "for p in l_p:\n",
    "    for q in l_q:\n",
    "        print (' p = %f, q = %f' %(p, q))\n",
    "        N = 1\n",
    "        K = 10\n",
    "        P = p * np.random.random((df_users.index.max(), K)) \n",
    "        Q = q * np.random.random((df_movies.index.max(), K))\n",
    "        evaluate_matrix(N, P, Q, lambda_p, lambda_q)"
   ]
  },
  {
   "cell_type": "markdown",
   "metadata": {},
   "source": [
    "Видим, что лучший результат при p=1 и q=0.01"
   ]
  },
  {
   "cell_type": "code",
   "execution_count": 26,
   "metadata": {
    "collapsed": false
   },
   "outputs": [
    {
     "name": "stdout",
     "output_type": "stream",
     "text": [
      " p = 0.001000, q = 0.001000\n",
      "loss =  1.01741830304\n",
      " p = 0.001000, q = 0.010000\n",
      "loss =  0.975822732789\n",
      " p = 0.001000, q = 0.100000\n",
      "loss =  0.922147330781\n",
      " p = 0.001000, q = 1.000000\n",
      "loss =  0.893799430423\n",
      " p = 0.010000, q = 0.001000\n",
      "loss =  0.923468242771\n",
      " p = 0.010000, q = 0.010000\n",
      "loss =  0.893391976445\n",
      " p = 0.010000, q = 0.100000\n",
      "loss =  0.891775677089\n",
      " p = 0.010000, q = 1.000000\n",
      "loss =  0.890840395604\n",
      " p = 0.100000, q = 0.001000\n",
      "loss =  0.889481099413\n",
      " p = 0.100000, q = 0.010000\n",
      "loss =  0.896228040097\n",
      " p = 0.100000, q = 0.100000\n",
      "loss =  1.47502844884\n",
      " p = 0.100000, q = 1.000000\n",
      "loss =  7.67219007731\n",
      " p = 1.000000, q = 0.001000\n",
      "loss =  1.46523594788\n",
      " p = 1.000000, q = 0.010000\n",
      "loss =  7.6643311513\n",
      " p = 1.000000, q = 0.100000\n",
      "loss =  12.3436294404\n",
      " p = 1.000000, q = 1.000000\n",
      "loss =  13.0504403325\n"
     ]
    }
   ],
   "source": [
    "l_p = [0.001, 0.01, 0.1, 1]\n",
    "l_q = [0.001, 0.01, 0.1, 1]\n",
    "for p in l_p:\n",
    "    for q in l_q:\n",
    "        print (' p = %f, q = %f' %(p, q))\n",
    "        N = 1\n",
    "        K = 10\n",
    "        P = 1 * np.random.random((df_users.index.max(), K)) \n",
    "        Q = 0.01 * np.random.random((df_movies.index.max(), K))\n",
    "        evaluate_matrix(N, P, Q, p, q)"
   ]
  },
  {
   "cell_type": "markdown",
   "metadata": {},
   "source": [
    "Далее, видим, что наилучшие значения для P = 0.1 и для Q = 0.1"
   ]
  },
  {
   "cell_type": "code",
   "execution_count": 27,
   "metadata": {
    "collapsed": false,
    "scrolled": true
   },
   "outputs": [
    {
     "name": "stdout",
     "output_type": "stream",
     "text": [
      " k = 5\n",
      "loss =  0.779247663865\n",
      " k = 10\n",
      "loss =  0.765251867855\n",
      " k = 15\n",
      "loss =  0.762434914081\n",
      " k = 20\n",
      "loss =  0.761164021313\n"
     ]
    }
   ],
   "source": [
    "k = [5, 10, 15, 20]\n",
    "for K in k:\n",
    "    print (' k = %d' %K)\n",
    "    P = 0.1 * np.random.random((df_users.index.max(), K)) \n",
    "    Q = 0.1 * np.random.random((df_movies.index.max(), K))\n",
    "    evaluate_matrix(N, P, Q, p, q)"
   ]
  },
  {
   "cell_type": "markdown",
   "metadata": {},
   "source": [
    "Посмотрим как зависит от размерности пространства скрытых переменных"
   ]
  },
  {
   "cell_type": "markdown",
   "metadata": {},
   "source": [
    "| K size  | MSE  |\n",
    "|---|---|\n",
    "| 5  | 0.779247663865  |\n",
    "|  10 |  0.765251867855 |\n",
    "|  100 | 0.762434914081  |\n",
    "|20|0.761164021313|"
   ]
  },
  {
   "cell_type": "markdown",
   "metadata": {},
   "source": [
    "Результаты были подсчитаны при N = 20"
   ]
  },
  {
   "cell_type": "markdown",
   "metadata": {},
   "source": [
    "Результат можно еще улучшить увеличением N до 30"
   ]
  },
  {
   "cell_type": "markdown",
   "metadata": {},
   "source": [
    "### Выводы"
   ]
  },
  {
   "cell_type": "markdown",
   "metadata": {},
   "source": [
    "Latent-factor оказался наилучщим методом, он смог достичь наименьшего mse. Очень удобный в реализации метод.\n",
    "Достоинства:\n",
    "    - Прост в реализации\n",
    "    - Достигает хорошего качества при подборе параметров\n",
    "Недостатки\n",
    "    - Требует много места для хранения матриц"
   ]
  }
 ],
 "metadata": {
  "anaconda-cloud": {},
  "kernelspec": {
   "display_name": "Python [Root]",
   "language": "python",
   "name": "Python [Root]"
  },
  "language_info": {
   "codemirror_mode": {
    "name": "ipython",
    "version": 3
   },
   "file_extension": ".py",
   "mimetype": "text/x-python",
   "name": "python",
   "nbconvert_exporter": "python",
   "pygments_lexer": "ipython3",
   "version": "3.5.1"
  }
 },
 "nbformat": 4,
 "nbformat_minor": 0
}

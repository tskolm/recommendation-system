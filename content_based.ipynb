{
 "cells": [
  {
   "cell_type": "code",
   "execution_count": null,
   "metadata": {
    "collapsed": true
   },
   "outputs": [],
   "source": [
    "import pandas as pd\n",
    "import numpy as np\n",
    "from sklearn.linear_model import Ridge\n",
    "from sklearn.model_selection import train_test_split\n",
    "from sklearn.metrics import mean_squared_error"
   ]
  },
  {
   "cell_type": "markdown",
   "metadata": {},
   "source": [
    "Чтобы облегчить просмотр отчета большая часть кода вынесена в отдельный модуль"
   ]
  },
  {
   "cell_type": "code",
   "execution_count": 1,
   "metadata": {
    "collapsed": false
   },
   "outputs": [],
   "source": [
    "import read_file as rf\n",
    "import split_data as spt\n",
    "import data_preprocessing as proc"
   ]
  },
  {
   "cell_type": "markdown",
   "metadata": {},
   "source": [
    "# Content-based  подход"
   ]
  },
  {
   "cell_type": "markdown",
   "metadata": {},
   "source": [
    "Данный метод основывается на характеристиках, которые мы знаем о пользователях и объектах, которые хотим ему порекомендовать. В качестве характеристик пользователя может выступать любая доступная нам информация, не нарушающая этические нормы. \n",
    "\n",
    "Допустим, речь идет о социальной сети и мы хотим рекомендовать пользователю новых друзей. В данной задаче в качестве объектов выступают другие пользователи. В качестве характеристик пользователей можно использовать общедоступные данные из профиля пользователя, такие как: сообщества в которых состоит данный пользователь, количество его записей на своей странице, заполненность профиля и так далее. Вся эта информация поможет нашей рекомендательной системе найти близких по духу людей для данного пользователя. \n",
    "\n",
    "Если у нас имеется интернет-магазин, то в качестве характеристик пользователя у нас имеются данные которые пользователь указал в своем профиле, а в качестве характеристик объектов имеется любая информация, доступная о товаре."
   ]
  },
  {
   "cell_type": "markdown",
   "metadata": {},
   "source": [
    "Для пользователей-объектов у нас так же имеется рейтинг (посещения страниц других пользователей, клики по товарам, оценки фильмов). Именно на основе данного рейтинга и обучаются алгоритмы. "
   ]
  },
  {
   "cell_type": "markdown",
   "metadata": {},
   "source": [
    "Content-based подход тоже основан на таблице с оценками, которые пользователи поставили определенным фильмам. Но основная задача данного метода заключается в нахождении нужных признаков, которые дадут наилучший алгоритм предсказания будущих оценок."
   ]
  },
  {
   "cell_type": "markdown",
   "metadata": {},
   "source": [
    "Наша задача состоит в том, чтобы попробовать использовать content-basend подход на данных MovieLens."
   ]
  },
  {
   "cell_type": "markdown",
   "metadata": {},
   "source": [
    "### Считываем данные"
   ]
  },
  {
   "cell_type": "code",
   "execution_count": 3,
   "metadata": {
    "collapsed": false,
    "scrolled": true
   },
   "outputs": [],
   "source": [
    "df_users, df_movies, df_rates = rf.read_zipped_file('ml-1m.zip')"
   ]
  },
  {
   "cell_type": "markdown",
   "metadata": {},
   "source": [
    "### Делим данные на обучение и контроль"
   ]
  },
  {
   "cell_type": "markdown",
   "metadata": {},
   "source": [
    "Делить данные необходимо по времени. \n",
    "- Как это понимать? \n",
    ">> Нужно для каждого пользователя отсортировать данные по времени и поделить в некотором соотношении на обучение и контроль. \n",
    "- Зачем делать именно так? Неужели нельзя разбить глобально по времени или просто в случайном порядке?\n",
    ">> Это необходимо для того, чтобы обученный алгоритм, внедренный в систему, мог приносить пользу и предсказывал верные оценки. Дело в том, что предпочтения пользователей может меняться, соответсвенно, если мы возьмем их оценки в случайном порядке, то в таком случае мы не сможем отследить тенденцию к смене жанра, например. "
   ]
  },
  {
   "cell_type": "code",
   "execution_count": 4,
   "metadata": {
    "collapsed": false,
    "scrolled": false
   },
   "outputs": [
    {
     "name": "stdout",
     "output_type": "stream",
     "text": [
      "CPU times: user 55.2 s, sys: 49.3 s, total: 1min 44s\n",
      "Wall time: 1min 45s\n"
     ]
    }
   ],
   "source": [
    "%time df_splited = spt.get_train_test_split(df_rates, df_users.index)"
   ]
  },
  {
   "cell_type": "markdown",
   "metadata": {},
   "source": [
    "Так как выборка поделилась на обучение и контроль, у нас появилось два подмножества, индексы которых не совпадают с исходным множеством. Для удобства будем хранить новые индексы отдельно для фильмов и пользователей для обучения и котроля."
   ]
  },
  {
   "cell_type": "code",
   "execution_count": 8,
   "metadata": {
    "collapsed": false
   },
   "outputs": [
    {
     "name": "stdout",
     "output_type": "stream",
     "text": [
      "CPU times: user 280 ms, sys: 6.8 ms, total: 287 ms\n",
      "Wall time: 287 ms\n"
     ]
    }
   ],
   "source": [
    "%%time\n",
    "movies_ind = spt.get_new_indexes(df_splited, 'movie_id')\n",
    "users_ind = spt.get_new_indexes(df_splited, 'user_id')"
   ]
  },
  {
   "cell_type": "markdown",
   "metadata": {},
   "source": [
    "###  Добавляем фичи"
   ]
  },
  {
   "cell_type": "markdown",
   "metadata": {},
   "source": [
    "В задание нам изначально уже даны некоторые признаки, которые необходимо использовать. Опишем их:"
   ]
  },
  {
   "cell_type": "markdown",
   "metadata": {},
   "source": [
    "- f<sub>u</sub><sup>1</sup><sub>,i</sub> – категориальный признак, возраст пользователя\n",
    "\n",
    "- f<sub>u</sub><sup>2</sup><sub>,i</sub> – категориальный признак, профессия пользователя\n",
    "\n",
    "- f<sub>u</sub><sup>3</sup><sub>,i</sub> – набор булевых признаков, по одному на каждый жанр, к которому отнесен фильм\n",
    "\n",
    "- f<sub>u</sub><sup>4</sup><sub>,i</sub> – категориальный признак, пол пользователя\n",
    "\n",
    "- f<sub>u</sub><sup>5</sup><sub>,i</sub> – (u<sub>g</sub> · m<sub>g</sub>)/n<sub>g</sub>, где u<sub>g</sub> – вектор средних оценок пользователя в пространстве жанров, m<sub>g</sub> – булевый вектор для фильма в пространстве жанров, n<sub>g</sub> – количество жанров, указанных для фильма\n",
    "\n",
    "- f<sub>u</sub><sup>6</sup><sub>,i</sub> – средний рейтинг пользователя\n",
    "\n",
    "- f<sub>u</sub><sup>7</sup><sub>,i</sub> – средний рейтинг фильма\n",
    "\n",
    "- f<sub>u</sub><sup>8</sup><sub>,i</sub> – константный признак"
   ]
  },
  {
   "cell_type": "markdown",
   "metadata": {},
   "source": [
    "Как можно заметить, несмотря на то, что мы вроде бы используем только характеристики пользователей и фильмов, мы все же не можем обойтись без исполльзования оценок пользователей и вводим признак, основывающийся на средней оценке.\n",
    "\n",
    "Таким образом мы выявляем наиболее предпочтительные жанры"
   ]
  },
  {
   "cell_type": "code",
   "execution_count": 9,
   "metadata": {
    "collapsed": false,
    "scrolled": false
   },
   "outputs": [
    {
     "name": "stdout",
     "output_type": "stream",
     "text": [
      "------------------------------------------------------------\n",
      "                Preprocessing of 1 sample\n",
      "------------------------------------------------------------\n",
      "------------------------------------------------------------\n",
      "                Preprocessing of 2 sample\n",
      "------------------------------------------------------------\n",
      "CPU times: user 2min 8s, sys: 12.1 s, total: 2min 20s\n",
      "Wall time: 2min 22s\n"
     ]
    }
   ],
   "source": [
    "%%time\n",
    "df_list = proc.add_features(df_splited, users_ind, movies_ind, df_users, df_movies)"
   ]
  },
  {
   "cell_type": "markdown",
   "metadata": {},
   "source": [
    "Мы получили разбиение на обучение и контроль, но пока у нас все еще отсутсвуем целевая переменная. Она находится внутри матрицы объекты-признаки. Нужно это исправить."
   ]
  },
  {
   "cell_type": "code",
   "execution_count": 11,
   "metadata": {
    "collapsed": false
   },
   "outputs": [],
   "source": [
    "y_final = df_list[0].rating, df_list[1].rating\n",
    "X_final = df_list[0].drop('rating', axis=1), df_list[1].drop('rating', axis=1)"
   ]
  },
  {
   "cell_type": "code",
   "execution_count": 12,
   "metadata": {
    "collapsed": false
   },
   "outputs": [
    {
     "data": {
      "text/plain": [
       "Index(['user_id', 'Action', 'Adventure', 'Animation', 'Children's', 'Comedy',\n",
       "       'Crime', 'Documentary', 'Drama', 'Fantasy', 'Film-Noir', 'Horror',\n",
       "       'Musical', 'Mystery', 'Romance', 'Sci-Fi', 'Thriller', 'War', 'Western',\n",
       "       'movies_avg', 'user_avg', 'age_1', 'age_18', 'age_25', 'age_35',\n",
       "       'age_45', 'age_50', 'age_56', 'gender_F', 'gender_M', 'occupation_0',\n",
       "       'occupation_1', 'occupation_10', 'occupation_11', 'occupation_12',\n",
       "       'occupation_13', 'occupation_14', 'occupation_15', 'occupation_16',\n",
       "       'occupation_17', 'occupation_18', 'occupation_19', 'occupation_2',\n",
       "       'occupation_20', 'occupation_3', 'occupation_4', 'occupation_5',\n",
       "       'occupation_6', 'occupation_7', 'occupation_8', 'occupation_9',\n",
       "       'product_feature', 'const'],\n",
       "      dtype='object')"
      ]
     },
     "execution_count": 12,
     "metadata": {},
     "output_type": "execute_result"
    }
   ],
   "source": [
    "X_final[0].columns"
   ]
  },
  {
   "cell_type": "markdown",
   "metadata": {},
   "source": [
    "### Обучаем модель"
   ]
  },
  {
   "cell_type": "markdown",
   "metadata": {},
   "source": [
    "Подберем параметр для Ridge-регрессии с помощью кросс валидации:"
   ]
  },
  {
   "cell_type": "code",
   "execution_count": 13,
   "metadata": {
    "collapsed": true
   },
   "outputs": [],
   "source": [
    "def split_add_feature(n_folds, df, users_index):\n",
    "    folds = spt.get_folds(df, users_index, n_folds)\n",
    "    movies_folds = spt.get_new_indexes_for_folds(folds, 'movie_id')\n",
    "    users_folds = spt.get_new_indexes_for_folds(folds, 'user_id')\n",
    "    folds = proc.add_features(folds, users_folds, movies_folds, df_users, df_movies)\n",
    "    y = [list(folds[i].rating) for i in range(n_folds)]\n",
    "    \n",
    "    X = []\n",
    "    for i in range(n_folds):\n",
    "        X.append(folds[i].drop('rating', axis=1))\n",
    "    return X, y"
   ]
  },
  {
   "cell_type": "markdown",
   "metadata": {},
   "source": [
    "Стоит отдельно отметить то, как происходит кросс-валидация.\n",
    "\n",
    "В начале, все как всегда, делим выборку на n_folds фолдов. Но так как у нас довольно специфичная задача, то кросс валидация должна проходить по времени. Иначе она теряет смысл. \n",
    "- Так каким же образом происходит кросс-валидация?\n",
    "\n",
    ">> Рассмотрим на примере кросс-валидации на 3 фолдах. \n",
    "\n",
    ">>Обучаемся на  <b>time[0]</b> ==> предсказываем на <b>time[1]</b>, <b>time[2]</b>\n",
    "\n",
    ">> Обучаемся на <b>time[0]</b>, <b>time[1]</b> ==> предсказываем на <b>time[2]</b>\n",
    "\n",
    ">> И усредняем результат. Таким образом мы всегда обучаемся на прошлых данных и предсказываем будущие."
   ]
  },
  {
   "cell_type": "code",
   "execution_count": 14,
   "metadata": {
    "collapsed": false
   },
   "outputs": [],
   "source": [
    "def cross_validation_by_time(X, y, param, n_folds):\n",
    "    one_param_loss = []\n",
    "    for i in range(n_folds-1):\n",
    "        df_to_learn = pd.DataFrame()\n",
    "        y_to_learn = np.array([])\n",
    "        for to_learn in range(i+1):\n",
    "            df_to_learn = df_to_learn.append(X[to_learn])\n",
    "            y_to_learn = np.append(y_to_learn, y[to_learn])\n",
    "        df_to_test = pd.DataFrame()\n",
    "        y_to_test = []\n",
    "        for to_test in range(i+1, n_folds):\n",
    "            df_to_test = df_to_test.append(X[to_test])\n",
    "            y_to_test = np.append(y_to_test, y[to_test])\n",
    "        regr = Ridge(alpha=param)\n",
    "        regr.fit(df_to_learn, y_to_learn)\n",
    "        predicted = regr.predict(df_to_test)\n",
    "        cur_loss = mean_squared_error(y_true=y_to_test, y_pred=predicted)\n",
    "        one_param_loss.append(cur_loss)\n",
    "    return np.array(one_param_loss).mean()    "
   ]
  },
  {
   "cell_type": "code",
   "execution_count": 25,
   "metadata": {
    "collapsed": true
   },
   "outputs": [],
   "source": [
    "def print_phrase(phrase):\n",
    "    print ('--' * 30)\n",
    "    size = int((60-len(phrase))/2)\n",
    "    print (' ' * size, phrase)\n",
    "    print ('--' * 30)"
   ]
  },
  {
   "cell_type": "markdown",
   "metadata": {},
   "source": [
    "Проведем кросс-валидацию на 4 фолдах, для выявления лучшего параметра"
   ]
  },
  {
   "cell_type": "code",
   "execution_count": 26,
   "metadata": {
    "collapsed": false
   },
   "outputs": [
    {
     "name": "stdout",
     "output_type": "stream",
     "text": [
      "------------------------------------------------------------\n",
      "           Starting by creating spliting into folds\n",
      "------------------------------------------------------------\n",
      "------------------------------------------------------------\n",
      "                Preprocessing of 1 sample\n",
      "------------------------------------------------------------\n",
      "------------------------------------------------------------\n",
      "                Preprocessing of 2 sample\n",
      "------------------------------------------------------------\n",
      "------------------------------------------------------------\n",
      "                Preprocessing of 3 sample\n",
      "------------------------------------------------------------\n",
      "------------------------------------------------------------\n",
      "                Preprocessing of 4 sample\n",
      "------------------------------------------------------------\n",
      "------------------------------------------------------------\n",
      "                      Splitting is ended\n",
      "------------------------------------------------------------\n",
      "------------------------------------------------------------\n",
      "            On parametr 0.000100 loss is 0.943039\n",
      "------------------------------------------------------------\n",
      "------------------------------------------------------------\n",
      "            On parametr 0.001000 loss is 0.943039\n",
      "------------------------------------------------------------\n",
      "------------------------------------------------------------\n",
      "            On parametr 0.010000 loss is 0.943039\n",
      "------------------------------------------------------------\n",
      "------------------------------------------------------------\n",
      "            On parametr 0.100000 loss is 0.943039\n",
      "------------------------------------------------------------\n"
     ]
    }
   ],
   "source": [
    "params = np.array([0.0001, 0.001, 0.01, 0.1])\n",
    "loss = []\n",
    "n_folds = 4\n",
    "print_phrase('Starting by creating spliting into folds')\n",
    "\n",
    "X, y = split_add_feature(n_folds, df_rates, df_users.index)\n",
    "print_phrase('Splitting is ended')\n",
    "\n",
    "for i in range(params.shape[0]):\n",
    "    loss.append(cross_validation_by_time(X, y, params[i], n_folds))\n",
    "    print_phrase('On parametr %f loss is %f' % (params[i], loss[i]))"
   ]
  },
  {
   "cell_type": "code",
   "execution_count": 27,
   "metadata": {
    "collapsed": false
   },
   "outputs": [
    {
     "data": {
      "text/plain": [
       "[0.94303909607008685,\n",
       " 0.94303909606432734,\n",
       " 0.94303909600674141,\n",
       " 0.94303909543142816]"
      ]
     },
     "execution_count": 27,
     "metadata": {},
     "output_type": "execute_result"
    }
   ],
   "source": [
    "loss"
   ]
  },
  {
   "cell_type": "markdown",
   "metadata": {},
   "source": [
    "Как видно из кросс-валидации -- изменение значения MSE при различных параметрах не очень существенное. Можно выбирать любой параметр. Хотя значение MSE на 0.1 немного меньше. Выберем этот параметр."
   ]
  },
  {
   "cell_type": "code",
   "execution_count": 28,
   "metadata": {
    "collapsed": false
   },
   "outputs": [],
   "source": [
    "regr = Ridge(alpha=0.1)\n",
    "regr.fit(X_final[0], y_final[0])\n",
    "predicted = regr.predict(X_final[1])\n",
    "loss = mean_squared_error(y_true=y_final[1], y_pred=predicted)"
   ]
  },
  {
   "cell_type": "code",
   "execution_count": 29,
   "metadata": {
    "collapsed": false,
    "scrolled": true
   },
   "outputs": [
    {
     "data": {
      "text/plain": [
       "0.93054602833777655"
      ]
     },
     "execution_count": 29,
     "metadata": {},
     "output_type": "execute_result"
    }
   ],
   "source": [
    "loss"
   ]
  },
  {
   "cell_type": "markdown",
   "metadata": {},
   "source": [
    "### Добавление признаков"
   ]
  },
  {
   "cell_type": "markdown",
   "metadata": {},
   "source": [
    "#### Первая попытка"
   ]
  },
  {
   "cell_type": "markdown",
   "metadata": {},
   "source": [
    "Добавим в качестве признака часть zip-code отвечающую за регион США. Исходим из предположения, что разные фильмы смотрят в разных регионах. Если это так, то MSE должен стать меньше. "
   ]
  },
  {
   "cell_type": "code",
   "execution_count": 24,
   "metadata": {
    "collapsed": false
   },
   "outputs": [],
   "source": [
    "my = proc.add_my_features_to_folds(df_list, df_users, df_movies)"
   ]
  },
  {
   "cell_type": "code",
   "execution_count": 25,
   "metadata": {
    "collapsed": false
   },
   "outputs": [],
   "source": [
    "y_my = my[0].rating, my[1].rating\n",
    "X_my = my[0].drop('rating', axis=1), my[1].drop('rating', axis=1)"
   ]
  },
  {
   "cell_type": "code",
   "execution_count": 26,
   "metadata": {
    "collapsed": true
   },
   "outputs": [],
   "source": [
    "regr = Ridge(alpha=0.1)\n",
    "regr.fit(X_my[0], y_my[0])\n",
    "predicted = regr.predict(X_my[1])\n",
    "loss = mean_squared_error(y_true=y_my[1], y_pred=predicted)"
   ]
  },
  {
   "cell_type": "code",
   "execution_count": 27,
   "metadata": {
    "collapsed": false
   },
   "outputs": [
    {
     "data": {
      "text/plain": [
       "0.93073236866692621"
      ]
     },
     "execution_count": 27,
     "metadata": {},
     "output_type": "execute_result"
    }
   ],
   "source": [
    "loss"
   ]
  },
  {
   "cell_type": "markdown",
   "metadata": {},
   "source": [
    "При добавлении первой цифры из zip-code MSE стал чуточку больше, значит, это плохой признак"
   ]
  },
  {
   "cell_type": "markdown",
   "metadata": {},
   "source": [
    "#### Вторая попытка"
   ]
  },
  {
   "cell_type": "code",
   "execution_count": 21,
   "metadata": {
    "collapsed": false
   },
   "outputs": [
    {
     "data": {
      "text/plain": [
       "<module 'data_preprocessing' from '/Users/tatiana/Documents/university/6_sem/Practicum/data_preprocessing.py'>"
      ]
     },
     "execution_count": 21,
     "metadata": {},
     "output_type": "execute_result"
    }
   ],
   "source": [
    "import imp\n",
    "imp.reload(proc)"
   ]
  },
  {
   "cell_type": "markdown",
   "metadata": {},
   "source": [
    "Попробуем добавить год фильма в качестве признака"
   ]
  },
  {
   "cell_type": "code",
   "execution_count": 22,
   "metadata": {
    "collapsed": true
   },
   "outputs": [],
   "source": [
    "my = proc.add_my_features_to_folds(df_list, df_users, df_movies)"
   ]
  },
  {
   "cell_type": "code",
   "execution_count": 23,
   "metadata": {
    "collapsed": true
   },
   "outputs": [],
   "source": [
    "y_my = my[0].rating, my[1].rating\n",
    "X_my = my[0].drop('rating', axis=1), my[1].drop('rating', axis=1)"
   ]
  },
  {
   "cell_type": "code",
   "execution_count": 24,
   "metadata": {
    "collapsed": true
   },
   "outputs": [],
   "source": [
    "regr = Ridge(alpha=0.1)\n",
    "regr.fit(X_my[0], y_my[0])\n",
    "predicted = regr.predict(X_my[1])\n",
    "loss = mean_squared_error(y_true=y_my[1], y_pred=predicted)"
   ]
  },
  {
   "cell_type": "code",
   "execution_count": 25,
   "metadata": {
    "collapsed": false
   },
   "outputs": [
    {
     "data": {
      "text/plain": [
       "0.9307550888385353"
      ]
     },
     "execution_count": 25,
     "metadata": {},
     "output_type": "execute_result"
    }
   ],
   "source": [
    "loss"
   ]
  },
  {
   "cell_type": "markdown",
   "metadata": {},
   "source": [
    "Данный признак тоже не дал прирост, даже наоборот, он оказался шумовым"
   ]
  },
  {
   "cell_type": "markdown",
   "metadata": {},
   "source": [
    "### Выводы"
   ]
  },
  {
   "cell_type": "markdown",
   "metadata": {},
   "source": [
    "Content-based подход хорош, когда есть дополнительная информация об объектах или пользователях. При условии нахождения хороших признаков можно получить очень хороший результат. Признаки можно находить как интерпретируемые, так и не интерепретируемые (взять различные комбинации, возвести в квадрат и так далее)."
   ]
  },
  {
   "cell_type": "markdown",
   "metadata": {},
   "source": [
    "Достоинства:\n",
    "    - Быстро считается (при условии правильного пользования библиотеками питона)\n",
    "    - Интересен с целью поиска признаков (можно очень много всего придумать и получить лучший результат)\n",
    "Недостатки: \n",
    "    - Нужно потратить очень много времени, чтобы найти хорошие признаки"
   ]
  }
 ],
 "metadata": {
  "anaconda-cloud": {},
  "kernelspec": {
   "display_name": "Python [Root]",
   "language": "python",
   "name": "Python [Root]"
  },
  "language_info": {
   "codemirror_mode": {
    "name": "ipython",
    "version": 3
   },
   "file_extension": ".py",
   "mimetype": "text/x-python",
   "name": "python",
   "nbconvert_exporter": "python",
   "pygments_lexer": "ipython3",
   "version": "3.5.1"
  }
 },
 "nbformat": 4,
 "nbformat_minor": 0
}

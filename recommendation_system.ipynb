{
 "cells": [
  {
   "cell_type": "code",
   "execution_count": 2,
   "metadata": {
    "collapsed": false
   },
   "outputs": [],
   "source": [
    "import pandas as pd\n",
    "import numpy as np\n",
    "from sklearn.preprocessing import OneHotEncoder\n",
    "from sklearn.preprocessing import LabelEncoder\n",
    "from scipy.sparse import coo_matrix"
   ]
  },
  {
   "cell_type": "markdown",
   "metadata": {},
   "source": [
    "Считываем данные"
   ]
  },
  {
   "cell_type": "code",
   "execution_count": 3,
   "metadata": {
    "collapsed": true
   },
   "outputs": [],
   "source": [
    "def reset_index(df):\n",
    "    #use index_id\n",
    "    \"\"\"Rename index cells by index_id column which is contained in dataframe.\n",
    "    And drop this column from dataframe.\n",
    "    \n",
    "    Parameters\n",
    "    ----------\n",
    "    df: {pandas-dataframe} dataframe with index_id column\n",
    "    \n",
    "    Returns\n",
    "    -------\n",
    "    cur_df: {pandas-dataframe} dataframe which index like index_id and this dataframe\n",
    "    doesn't contain index_id column\n",
    "    \"\"\"\n",
    "    cur_df = df\n",
    "    cur_df.index = cur_df.index_id\n",
    "    cur_df.index = cur_df.index.astype(int)\n",
    "    cur_df = cur_df.drop('index_id', axis=1)\n",
    "    return cur_df"
   ]
  },
  {
   "cell_type": "code",
   "execution_count": 4,
   "metadata": {
    "collapsed": false
   },
   "outputs": [],
   "source": [
    "def read_file(file_name, columns, encoding='utf-8', index=False):\n",
    "    \"\"\"Reading file from path = './data' + file_name.\n",
    "    \n",
    "    Parameters\n",
    "    ----------\n",
    "    path: {string-like} file name in ./data folder which has .bat extension\n",
    "    \n",
    "    columns: {python-list, numpy-array} name of columns which can be found in \n",
    "    data description\n",
    "    \n",
    "    encoding: {string-like} should be using when it's different from utf-8\n",
    "    \n",
    "    Returns\n",
    "    -------\n",
    "    df: {pandas-dataframe} which was read from file\n",
    "    \"\"\"\n",
    "    \n",
    "    with open('./data/%s.dat' % file_name, 'r', encoding=encoding) as f:\n",
    "        read_data = [l.rstrip().split('::') for l in f]\n",
    "        df = pd.DataFrame(read_data, columns=columns)      \n",
    "    if index:\n",
    "        df = reset_index(df)\n",
    "    return df"
   ]
  },
  {
   "cell_type": "markdown",
   "metadata": {},
   "source": [
    "Преобразовываем категориальные признаки:"
   ]
  },
  {
   "cell_type": "code",
   "execution_count": 14,
   "metadata": {
    "collapsed": false
   },
   "outputs": [],
   "source": [
    "def get_categorial_features(df, columns):\n",
    "    \"\"\"Transform categorial features into one-hot encoding type.\n",
    "    \n",
    "    Parameters\n",
    "    ----------\n",
    "    df: {pandas-dataframe} dataframe which contains features should be \n",
    "        transformed\n",
    "    \n",
    "    columns: {python-list, numpy-array} name of columns which are categorial \n",
    "    and had to be represent in one-hot-encoding style. They must be a subset of \n",
    "    df.columns\n",
    "    \n",
    "    Returns\n",
    "    ------- \n",
    "    cur_df: {pandas-dataframe} dataframe with transformed columns \n",
    "    \"\"\"    \n",
    "    \n",
    "    cur_df = pd.DataFrame(df.index)\n",
    "    label = LabelEncoder()\n",
    "    onehot = OneHotEncoder()\n",
    "\n",
    "    for feature in columns: \n",
    "        label.fit(df[feature])\n",
    "        improved_features = label.transform(df[feature])\n",
    "        onehot.fit(improved_features.reshape(-1, 1))  \n",
    "        cur_df = cur_df.join(pd.DataFrame(onehot.transform(improved_features.reshape(-1, 1))\\\n",
    "                                          .toarray(), columns=feature + '_' + label.classes_))\n",
    "    return cur_df"
   ]
  },
  {
   "cell_type": "markdown",
   "metadata": {},
   "source": [
    "Преобразуем жанры к нормальному виду"
   ]
  },
  {
   "cell_type": "code",
   "execution_count": 24,
   "metadata": {
    "collapsed": false
   },
   "outputs": [],
   "source": [
    "def get_genres(df, genres):\n",
    "    \"\"\"Return genres from dataframe like boolean dataframe.\n",
    "    \n",
    "    Parameters\n",
    "    ----------\n",
    "    df: {pandas-dataframe} dataframe with data and genres column\n",
    "    \n",
    "    genres: {numpy-array, python-list} list with genres which will be a \n",
    "    columns name.\n",
    "    \n",
    "    Returns\n",
    "    ------- \n",
    "    cur_df: {pandas-dataframe} dataframe boolean like represents genres of \n",
    "    film.\n",
    "    \"\"\"    \n",
    "    \n",
    "    cur_df = pd.DataFrame(index=df.index)\n",
    "    for i in genres:\n",
    "        cur_df[i] = 0\n",
    "#     cur_df = df.reindex(columns=np.append(df.columns, genres), fill_value=0)\n",
    "    labels = df.apply(label_genre, axis=1)\n",
    "    for num, row_label in enumerate(labels):\n",
    "        for one_label in row_label:\n",
    "            cur_df.loc[cur_df.index[num], one_label] = 1\n",
    "    return cur_df\n",
    "\n",
    "def label_genre(row):\n",
    "    \"\"\"Get row and separate it genres column by '|' letter.\n",
    "    \n",
    "    Parameters\n",
    "    ----------\n",
    "    row: {pandas-dataframe} dataframe consisting from one row which contain 'genres'\n",
    "    column.\n",
    "    \n",
    "    Returns\n",
    "    ------- \n",
    "    genres: {python-list} list with genres from cell.\n",
    "    \"\"\" \n",
    "    genres = row['genres'].split('|')\n",
    "    return genres"
   ]
  },
  {
   "cell_type": "code",
   "execution_count": 7,
   "metadata": {
    "collapsed": false
   },
   "outputs": [],
   "source": [
    "def to_adjacency_df(df):    \n",
    "    \"\"\"From edge dataframe creates adjacency dataframe with shape {user * movies}.\n",
    "    Cell (i, j) contains rating from user_i to movie_j.\n",
    "    \n",
    "    Parameters\n",
    "    ----------\n",
    "    df: {pandas-dataframe} dataframe which contains edge list with ratings\n",
    "    which we use like weights.\n",
    "    \n",
    "    Returns\n",
    "    ------- \n",
    "    cur_df: {pandas-dataframe} dataframe represented as adjacency matrix\n",
    "    \"\"\"    \n",
    "    \n",
    "    as_matrix = df_rates.as_matrix()\n",
    "    shape = tuple(as_matrix.max(axis=0)[:2] + 1)\n",
    "    coo = coo_matrix((as_matrix[:, 2], (as_matrix[:, 0], as_matrix[:, 1])), \n",
    "                     shape=shape, dtype=as_matrix.dtype)\n",
    "    coo = coo.todense()\n",
    "    cur_df = pd.DataFrame(coo[1:, 1:], index=range(1, coo.shape[0]), \\\n",
    "                      columns=range(1, coo.shape[1]))\n",
    "    return cur_df"
   ]
  },
  {
   "cell_type": "code",
   "execution_count": 8,
   "metadata": {
    "collapsed": false
   },
   "outputs": [],
   "source": [
    "def average_based_on_user_movie(df, name='avg', axis=0):\n",
    "    \"\"\"Counting sum across axis and non zero values and return dataframe\n",
    "    containing average values with the same index.\n",
    "    \n",
    "    Parameters\n",
    "    ----------\n",
    "    df: {pandas-dataframe}\n",
    "    \n",
    "    name: {string-like} name of column with average values in returning \n",
    "    dataframe\n",
    "    \n",
    "    axis: {int-like} 0 or 1 integer which mean axis summing by\n",
    "    \n",
    "    Returns\n",
    "    ------- \n",
    "    cur_df: {pandas-dataframe} dataframe with average values across axis\n",
    "    \"\"\"   \n",
    "    avg = df.sum(axis=axis) / (np.count_nonzero(df.as_matrix(), axis=axis))\n",
    "    cur_df = pd.DataFrame(avg, columns=[name])\n",
    "    return cur_df"
   ]
  },
  {
   "cell_type": "code",
   "execution_count": 63,
   "metadata": {
    "collapsed": false
   },
   "outputs": [],
   "source": [
    "def join_dataframes(main_df, df, id_name):\n",
    "    \"\"\"Join dataframes by id_name. In main_df id_name is a column and in \n",
    "    df it is an index.\n",
    "    \n",
    "    Parameters\n",
    "    ----------\n",
    "    main_df: {pandas-dataframe} dataframe is a base in which new features\n",
    "    will be added\n",
    "    \n",
    "    df: {pandas-dataframe} dataframe with new features\n",
    "    \n",
    "    id_name: {string-like} string linking two dataframes\n",
    "    \n",
    "    Returns\n",
    "    ------- \n",
    "    cur_df: {pandas-dataframe} dataframe with new features\n",
    "    \"\"\"  \n",
    "    cur_df = main_df.copy()\n",
    "    for feature in df.columns:\n",
    "        cur_df[feature] = 0\n",
    "    \n",
    "    for ind in df.index:\n",
    "        for feature in df.columns:\n",
    "            cur_df.loc[main_df[id_name] == ind, feature] = df.loc[ind, feature]\n",
    "    return cur_df"
   ]
  },
  {
   "cell_type": "code",
   "execution_count": 45,
   "metadata": {
    "collapsed": false
   },
   "outputs": [],
   "source": [
    "df_users = read_file('users', ['index_id', 'gender', 'age', 'occupation', 'zip_code'], index=True)\n",
    "df_movies = read_file('movies', ['index_id', 'title', 'genres'], encoding='latin_1', index=True)\n",
    "df_rates = read_file('ratings', ['user_id', 'movie_id', 'rating', 'timestamp'])\n",
    "df_rates = df_rates.astype(int)"
   ]
  },
  {
   "cell_type": "code",
   "execution_count": 10,
   "metadata": {
    "collapsed": false
   },
   "outputs": [],
   "source": [
    "df_users_movies = to_adjacency_df(df_rates)\n",
    "\n",
    "df_users_movies_rating = df_users_movies.copy()\n",
    "df_users_movies[df_users_movies != 0] = 1"
   ]
  },
  {
   "cell_type": "code",
   "execution_count": 142,
   "metadata": {
    "collapsed": false,
    "scrolled": true
   },
   "outputs": [],
   "source": [
    "genres = ['Action', 'Adventure', 'Animation', 'Children\\'s', \\\n",
    "                             'Comedy', 'Crime', 'Documentary', 'Drama', 'Fantasy', \\\n",
    "                             'Film-Noir', 'Horror', 'Musical', 'Mystery', 'Romance', \\\n",
    "                             'Sci-Fi', 'Thriller', 'War', 'Western']\n",
    "one_hot_movie = get_genres(df_movies, genres)"
   ]
  },
  {
   "cell_type": "code",
   "execution_count": 150,
   "metadata": {
    "collapsed": false,
    "scrolled": true
   },
   "outputs": [],
   "source": [
    "joined = join_dataframes(df_rates, one_hot_movie, 'movie_id')"
   ]
  }
 ],
 "metadata": {
  "anaconda-cloud": {},
  "kernelspec": {
   "display_name": "Python [Root]",
   "language": "python",
   "name": "Python [Root]"
  },
  "language_info": {
   "codemirror_mode": {
    "name": "ipython",
    "version": 3
   },
   "file_extension": ".py",
   "mimetype": "text/x-python",
   "name": "python",
   "nbconvert_exporter": "python",
   "pygments_lexer": "ipython3",
   "version": "3.5.1"
  }
 },
 "nbformat": 4,
 "nbformat_minor": 0
}
